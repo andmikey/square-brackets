{
 "cells": [
  {
   "cell_type": "code",
   "execution_count": 67,
   "metadata": {},
   "outputs": [],
   "source": [
    "import ssl, OpenSSL\n",
    "import json\n",
    "import requests\n",
    "from bs4 import BeautifulSoup as bs"
   ]
  },
  {
   "cell_type": "code",
   "execution_count": 62,
   "metadata": {},
   "outputs": [],
   "source": [
    "def get_ssl(url):\n",
    "    \"\"\"\n",
    "    Given the URL of a website, return a JSON representing:\n",
    "    - If there is an SSL certificate present\n",
    "    - If yes, who issued it\n",
    "    - Cryptographic details about the certificate\n",
    "    \"\"\"\n",
    "    cert = ssl.get_server_certificate((url, 443))\n",
    "    x509 = OpenSSL.crypto.load_certificate(OpenSSL.crypto.FILETYPE_PEM, \n",
    "                                          cert)\n",
    "\n",
    "    issuer = x509.get_issuer().get_components()\n",
    "    issuer_dict = {key.decode('utf-8'): value.decode('utf-8') \n",
    "                   for (key, value) in dict(issuer).items()}\n",
    "    not_after = x509.get_notAfter()\n",
    "    not_before = x509.get_notBefore()\n",
    "    alg = x509.get_signature_algorithm()\n",
    "    \n",
    "    return json.dumps({\"algorithm\": str(alg, \"utf-8\"), \n",
    "                   \"not_after\": str(not_after, \"utf-8\"),\n",
    "                   \"not_before\": str(not_before, \"utf-8\"),\n",
    "                   \"issuer\": issuer_dict})\n",
    "    "
   ]
  },
  {
   "cell_type": "code",
   "execution_count": 63,
   "metadata": {},
   "outputs": [
    {
     "data": {
      "text/plain": [
       "'{\"algorithm\": \"sha256WithRSAEncryption\", \"not_after\": \"20190608220149Z\", \"not_before\": \"20180607220149Z\", \"issuer\": {\"C\": \"BE\", \"O\": \"GlobalSign nv-sa\", \"CN\": \"GlobalSign CloudSSL CA - SHA256 - G3\"}}'"
      ]
     },
     "execution_count": 63,
     "metadata": {},
     "output_type": "execute_result"
    }
   ],
   "source": [
    "get_ssl(\"theguardian.com\")"
   ]
  },
  {
   "cell_type": "code",
   "execution_count": 137,
   "metadata": {},
   "outputs": [],
   "source": [
    "def get_privacy_policy(url):\n",
    "    r_page = requests.get(\"http://{}\".format(url)).text\n",
    "    bs_page = bs(r_page, \"lxml\")\n",
    "    policy_url = bs_page.find(lambda x: x.name == \"a\" and has_privacy(x.text))\n",
    "    try:\n",
    "        link = policy_url[\"href\"]\n",
    "        if link.startswith(\"/\"):\n",
    "            return url + link\n",
    "        else:\n",
    "            return url\n",
    "    except:\n",
    "        return \"\"\n",
    "\n",
    "def has_privacy(text):\n",
    "    \"\"\" Returnt true if text refers to privacy policy \"\"\"\n",
    "    return (\"privacy policy\" in text.lower()) or (\"privacy\" in text.lower())"
   ]
  },
  {
   "cell_type": "code",
   "execution_count": 140,
   "metadata": {},
   "outputs": [
    {
     "data": {
      "text/plain": [
       "'theguardian.com'"
      ]
     },
     "execution_count": 140,
     "metadata": {},
     "output_type": "execute_result"
    }
   ],
   "source": [
    "get_privacy_policy(\"theguardian.com\")"
   ]
  },
  {
   "cell_type": "code",
   "execution_count": null,
   "metadata": {},
   "outputs": [],
   "source": []
  },
  {
   "cell_type": "code",
   "execution_count": null,
   "metadata": {},
   "outputs": [],
   "source": []
  },
  {
   "cell_type": "code",
   "execution_count": null,
   "metadata": {},
   "outputs": [],
   "source": []
  }
 ],
 "metadata": {
  "kernelspec": {
   "display_name": "Python 3",
   "language": "python",
   "name": "python3"
  },
  "language_info": {
   "codemirror_mode": {
    "name": "ipython",
    "version": 3
   },
   "file_extension": ".py",
   "mimetype": "text/x-python",
   "name": "python",
   "nbconvert_exporter": "python",
   "pygments_lexer": "ipython3",
   "version": "3.6.5"
  }
 },
 "nbformat": 4,
 "nbformat_minor": 2
}
