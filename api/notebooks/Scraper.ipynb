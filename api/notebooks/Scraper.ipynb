{
 "cells": [
  {
   "cell_type": "code",
   "execution_count": 1,
   "metadata": {},
   "outputs": [],
   "source": [
    "import ssl, OpenSSL\n",
    "import json\n",
    "import requests\n",
    "from bs4 import BeautifulSoup as bs\n",
    "import re"
   ]
  },
  {
   "cell_type": "code",
   "execution_count": 2,
   "metadata": {},
   "outputs": [],
   "source": [
    "def get_ssl(url):\n",
    "    \"\"\"\n",
    "    Given the URL of a website, return a JSON representing:\n",
    "    - If there is an SSL certificate present\n",
    "    - If yes, who issued it\n",
    "    - Cryptographic details about the certificate\n",
    "    \"\"\"\n",
    "    cert = ssl.get_server_certificate((url, 443))\n",
    "    x509 = OpenSSL.crypto.load_certificate(OpenSSL.crypto.FILETYPE_PEM, \n",
    "                                          cert)\n",
    "\n",
    "    issuer = x509.get_issuer().get_components()\n",
    "    issuer_dict = {key.decode('utf-8'): value.decode('utf-8') \n",
    "                   for (key, value) in dict(issuer).items()}\n",
    "    not_after = x509.get_notAfter()\n",
    "    not_before = x509.get_notBefore()\n",
    "    alg = x509.get_signature_algorithm()\n",
    "    \n",
    "    return json.dumps({\"algorithm\": str(alg, \"utf-8\"), \n",
    "                   \"not_after\": str(not_after, \"utf-8\"),\n",
    "                   \"not_before\": str(not_before, \"utf-8\"),\n",
    "                   \"issuer\": issuer_dict})\n",
    "    "
   ]
  },
  {
   "cell_type": "code",
   "execution_count": 3,
   "metadata": {},
   "outputs": [
    {
     "data": {
      "text/plain": [
       "'{\"algorithm\": \"sha256WithRSAEncryption\", \"not_after\": \"20190608220149Z\", \"not_before\": \"20180607220149Z\", \"issuer\": {\"C\": \"BE\", \"O\": \"GlobalSign nv-sa\", \"CN\": \"GlobalSign CloudSSL CA - SHA256 - G3\"}}'"
      ]
     },
     "execution_count": 3,
     "metadata": {},
     "output_type": "execute_result"
    }
   ],
   "source": [
    "get_ssl(\"theguardian.com\")"
   ]
  },
  {
   "cell_type": "code",
   "execution_count": 4,
   "metadata": {},
   "outputs": [],
   "source": [
    "headers = {\"User-Agent\": \"Mozilla/5.0 (X11; Linux i686; rv:13.0) Gecko/13.0 Firefox/13.0\"}"
   ]
  },
  {
   "cell_type": "code",
   "execution_count": 5,
   "metadata": {},
   "outputs": [],
   "source": [
    "def get_privacy_policy_link(url):\n",
    "    r_page = requests.get(\"https://duckduckgo.com/html/?q=privacy policy site:{}\".format(url), \n",
    "                          headers = headers).text\n",
    "    bs_page = bs(r_page, \"lxml\")\n",
    "    return bs_page.find_all(\"a\", attrs = {\"class\": \"result__url\"})[0].text.strip()\n",
    "\n",
    "def find_emails(text):\n",
    "    \"\"\" Find all emails present in a string \"\"\"\n",
    "    return set(re.findall(r'[\\w.+-]+@[^\\W_]+[.-][A-Za-z0-9.-]+', text))"
   ]
  },
  {
   "cell_type": "code",
   "execution_count": null,
   "metadata": {},
   "outputs": [],
   "source": []
  },
  {
   "cell_type": "code",
   "execution_count": 12,
   "metadata": {},
   "outputs": [
    {
     "data": {
      "text/plain": [
       "{'dataprotection@theguardian.com'}"
      ]
     },
     "execution_count": 12,
     "metadata": {},
     "output_type": "execute_result"
    }
   ],
   "source": [
    "policy_url = get_privacy_policy_link(\"theguardian.com\")\n",
    "\n",
    "if not(policy_url.startswith(\"http\")):\n",
    "    policy_url = \"http://\" + policy_url\n",
    "    \n",
    "bs_page = bs(requests.get(policy_url, headers = headers).text, \"lxml\")\n",
    "find_emails(str(bs_page))"
   ]
  },
  {
   "cell_type": "code",
   "execution_count": 11,
   "metadata": {},
   "outputs": [
    {
     "data": {
      "text/plain": [
       "'http://ed.ac.uk/about/website/privacy'"
      ]
     },
     "execution_count": 11,
     "metadata": {},
     "output_type": "execute_result"
    }
   ],
   "source": [
    "policy_url"
   ]
  },
  {
   "cell_type": "code",
   "execution_count": null,
   "metadata": {},
   "outputs": [],
   "source": []
  },
  {
   "cell_type": "code",
   "execution_count": null,
   "metadata": {},
   "outputs": [],
   "source": []
  },
  {
   "cell_type": "code",
   "execution_count": null,
   "metadata": {},
   "outputs": [],
   "source": []
  },
  {
   "cell_type": "code",
   "execution_count": null,
   "metadata": {},
   "outputs": [],
   "source": []
  },
  {
   "cell_type": "code",
   "execution_count": null,
   "metadata": {},
   "outputs": [],
   "source": []
  }
 ],
 "metadata": {
  "kernelspec": {
   "display_name": "Python 3",
   "language": "python",
   "name": "python3"
  },
  "language_info": {
   "codemirror_mode": {
    "name": "ipython",
    "version": 3
   },
   "file_extension": ".py",
   "mimetype": "text/x-python",
   "name": "python",
   "nbconvert_exporter": "python",
   "pygments_lexer": "ipython3",
   "version": "3.6.5"
  }
 },
 "nbformat": 4,
 "nbformat_minor": 2
}
